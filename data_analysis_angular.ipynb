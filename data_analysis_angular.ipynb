{
 "cells": [
  {
   "cell_type": "code",
   "execution_count": 18,
   "metadata": {
    "collapsed": false
   },
   "outputs": [],
   "source": [
    "import pandas as pd\n",
    "# Load data\n",
    "df = pd.read_csv(\n",
    "    'git_log.csv',\n",
    "    sep=',',\n",
    "    names=['hash', 'release', 'message', 'timestamp', 'author'],\n",
    "    encoding='utf-16',\n",
    "    parse_dates=['timestamp'],\n",
    "    on_bad_lines='skip'\n",
    ")"
   ]
  },
  {
   "cell_type": "code",
   "execution_count": 19,
   "metadata": {},
   "outputs": [
    {
     "data": {
      "text/html": [
       "<div>\n",
       "<style scoped>\n",
       "    .dataframe tbody tr th:only-of-type {\n",
       "        vertical-align: middle;\n",
       "    }\n",
       "\n",
       "    .dataframe tbody tr th {\n",
       "        vertical-align: top;\n",
       "    }\n",
       "\n",
       "    .dataframe thead th {\n",
       "        text-align: right;\n",
       "    }\n",
       "</style>\n",
       "<table border=\"1\" class=\"dataframe\">\n",
       "  <thead>\n",
       "    <tr style=\"text-align: right;\">\n",
       "      <th></th>\n",
       "      <th>hash</th>\n",
       "      <th>release</th>\n",
       "      <th>message</th>\n",
       "      <th>timestamp</th>\n",
       "      <th>author</th>\n",
       "      <th>change_type</th>\n",
       "    </tr>\n",
       "  </thead>\n",
       "  <tbody>\n",
       "    <tr>\n",
       "      <th>0</th>\n",
       "      <td>ee1d06c8fa1f0a6bf2e6ffb189c15266bbbd1d76</td>\n",
       "      <td>(tag: 19.0.0-rc.0)</td>\n",
       "      <td>release: cut the v19.0.0-rc.0 release</td>\n",
       "      <td>2024-10-30 12:59:28-07:00</td>\n",
       "      <td>Alex Rickabaugh</td>\n",
       "      <td>release</td>\n",
       "    </tr>\n",
       "    <tr>\n",
       "      <th>1</th>\n",
       "      <td>48eac2320d66bca2b07d29f65b15636f4abadb50</td>\n",
       "      <td>(tag: 18.2.10)</td>\n",
       "      <td>release: cut the v18.2.10 release</td>\n",
       "      <td>2024-10-30 12:03:32-07:00</td>\n",
       "      <td>Alex Rickabaugh</td>\n",
       "      <td>release</td>\n",
       "    </tr>\n",
       "    <tr>\n",
       "      <th>2</th>\n",
       "      <td>dcd16b43f31177a269317f7764ef38559b14fd66</td>\n",
       "      <td>NaN</td>\n",
       "      <td>refactor(migrations): Make the explicit standa...</td>\n",
       "      <td>2024-10-29 15:04:20-07:00</td>\n",
       "      <td>Matthieu Riegler</td>\n",
       "      <td>refactor</td>\n",
       "    </tr>\n",
       "    <tr>\n",
       "      <th>3</th>\n",
       "      <td>3230d78c545de12bee74dd0527765b5d8e7d6a35</td>\n",
       "      <td>NaN</td>\n",
       "      <td>refactor(core): introduce `ngServerMode` as gl...</td>\n",
       "      <td>2024-10-29 12:22:55+00:00</td>\n",
       "      <td>Alan Agius</td>\n",
       "      <td>refactor</td>\n",
       "    </tr>\n",
       "    <tr>\n",
       "      <th>4</th>\n",
       "      <td>616b411a6d94d3dbc3e072b91c1194466c0a1add</td>\n",
       "      <td>NaN</td>\n",
       "      <td>fix(migrations): properly migrate output alias...</td>\n",
       "      <td>2024-10-29 15:59:01+01:00</td>\n",
       "      <td>Pawel Kozlowski</td>\n",
       "      <td>fix</td>\n",
       "    </tr>\n",
       "  </tbody>\n",
       "</table>\n",
       "</div>"
      ],
      "text/plain": [
       "                                       hash              release  \\\n",
       "0  ee1d06c8fa1f0a6bf2e6ffb189c15266bbbd1d76   (tag: 19.0.0-rc.0)   \n",
       "1  48eac2320d66bca2b07d29f65b15636f4abadb50       (tag: 18.2.10)   \n",
       "2  dcd16b43f31177a269317f7764ef38559b14fd66                  NaN   \n",
       "3  3230d78c545de12bee74dd0527765b5d8e7d6a35                  NaN   \n",
       "4  616b411a6d94d3dbc3e072b91c1194466c0a1add                  NaN   \n",
       "\n",
       "                                             message  \\\n",
       "0              release: cut the v19.0.0-rc.0 release   \n",
       "1                  release: cut the v18.2.10 release   \n",
       "2  refactor(migrations): Make the explicit standa...   \n",
       "3  refactor(core): introduce `ngServerMode` as gl...   \n",
       "4  fix(migrations): properly migrate output alias...   \n",
       "\n",
       "                   timestamp            author change_type  \n",
       "0  2024-10-30 12:59:28-07:00   Alex Rickabaugh     release  \n",
       "1  2024-10-30 12:03:32-07:00   Alex Rickabaugh     release  \n",
       "2  2024-10-29 15:04:20-07:00  Matthieu Riegler    refactor  \n",
       "3  2024-10-29 12:22:55+00:00        Alan Agius    refactor  \n",
       "4  2024-10-29 15:59:01+01:00   Pawel Kozlowski         fix  "
      ]
     },
     "execution_count": 19,
     "metadata": {},
     "output_type": "execute_result"
    }
   ],
   "source": [
    "# Define keywords for each change type with regex patterns to match at start of message\n",
    "import re\n",
    "\n",
    "change_types = {\n",
    "    'build': r'^build\\b',\n",
    "    'ci': r'^ci\\b',\n",
    "    'docs': r'^docs\\b',\n",
    "    'feat': r'^feat\\b',\n",
    "    'fix': r'^fix\\b',\n",
    "    'perf': r'^perf\\b',\n",
    "    'refactor': r'^refactor\\b',\n",
    "    'test': r'^test\\b',\n",
    "    'release': r'^release\\b',\n",
    "    'revert': r'^revert\\b',\n",
    "    'chore': r'^(chore|chare)\\b',\n",
    "    'update': r'^update\\b',\n",
    "}\n",
    "\n",
    "# Function to assign change type based on message content, case-insensitive\n",
    "def extract_change_type(message):\n",
    "    for change, pattern in change_types.items():\n",
    "        if re.search(pattern, message, re.IGNORECASE):  # Case-insensitive match\n",
    "            return change\n",
    "    return 'Not Found'  # Return 'Not Found' if no keyword is found\n",
    "\n",
    "# Apply function to create new column\n",
    "df['change_type'] = df['message'].apply(extract_change_type)\n",
    "\n",
    "# Display the DataFrame to check results\n",
    "df.head()"
   ]
  },
  {
   "cell_type": "code",
   "execution_count": 20,
   "metadata": {
    "collapsed": false
   },
   "outputs": [],
   "source": [
    "df['timestamp'] = pd.to_datetime(df['timestamp'], errors='coerce', utc=True)\n",
    "\n",
    "# Convert to UTC\n",
    "df['timestamp'] = df['timestamp'].dt.tz_convert('UTC')"
   ]
  },
  {
   "cell_type": "code",
   "execution_count": null,
   "metadata": {},
   "outputs": [],
   "source": [
    "df['release'] = df['release'].ffill()"
   ]
  },
  {
   "cell_type": "code",
   "execution_count": 22,
   "metadata": {},
   "outputs": [],
   "source": [
    "# drop 20 empty cells in Timestamp column\n",
    "df.dropna(subset=['timestamp'], inplace=True)"
   ]
  },
  {
   "cell_type": "code",
   "execution_count": 23,
   "metadata": {},
   "outputs": [],
   "source": [
    "#print where Not Found\n",
    "df[df['change_type'] == 'Not Found']\n",
    "# Drop rows where change_type is 'Not Found'\n",
    "df = df[df['change_type'] != 'Not Found']\n"
   ]
  },
  {
   "cell_type": "code",
   "execution_count": 24,
   "metadata": {},
   "outputs": [
    {
     "data": {
      "text/plain": [
       "docs        11155\n",
       "fix          9521\n",
       "refactor     7456\n",
       "build        6790\n",
       "feat         3303\n",
       "test         2227\n",
       "ci           1839\n",
       "chore        1146\n",
       "release       934\n",
       "revert        858\n",
       "perf          540\n",
       "update         32\n",
       "Name: change_type, dtype: int64"
      ]
     },
     "execution_count": 24,
     "metadata": {},
     "output_type": "execute_result"
    }
   ],
   "source": [
    "# Count the tags for each change type\n",
    "change_type_counts = df['change_type'].value_counts()\n",
    "change_type_counts"
   ]
  },
  {
   "cell_type": "code",
   "execution_count": 25,
   "metadata": {},
   "outputs": [],
   "source": [
    "# Remove duplicates based not on hash but on timestamp\n",
    "df.drop_duplicates(subset='timestamp', keep='first', inplace=True)"
   ]
  },
  {
   "cell_type": "code",
   "execution_count": null,
   "metadata": {},
   "outputs": [],
   "source": [
    "#Drop everything from 2017-03\n",
    "df = df[df['timestamp'] >= '2017-03-01']"
   ]
  },
  {
   "cell_type": "code",
   "execution_count": 31,
   "metadata": {},
   "outputs": [],
   "source": [
    "# List of releases to remove\n",
    "releases_to_remove = [\n",
    "    '(tag: 8.0.0-beta.10)',\n",
    "    '(tag: zone.js-0.10.1)',\n",
    "    '(tag: ngcontainer_0.9.0)',\n",
    "    'ngcontainer_0.5.0)',\n",
    "    '(tag: ngcontainer_0.4.0)',\n",
    "    '(tag: ngcontainer_0.3.0)',\n",
    "    '(tag: ngcontainer_0.3.2)',\n",
    "    '(tag: 6.0.0-beta.2)',\n",
    "    '(tag: 6.0.0-beta.8)',\n",
    "    '(tag: 5.1.0-beta.0)',\n",
    "    '(tag: ngcontainer_0.3.3)',\n",
    "    '(origin/4.3.x)',\n",
    "    '(tag: patch_sync)',\n",
    "    '(origin/5.2x)'\n",
    "]\n",
    "\n",
    "# Filter the DataFrame to remove rows with specified releases\n",
    "df = df[~df['release'].isin(releases_to_remove)]"
   ]
  },
  {
   "cell_type": "code",
   "execution_count": 34,
   "metadata": {},
   "outputs": [
    {
     "data": {
      "text/html": [
       "<div>\n",
       "<style scoped>\n",
       "    .dataframe tbody tr th:only-of-type {\n",
       "        vertical-align: middle;\n",
       "    }\n",
       "\n",
       "    .dataframe tbody tr th {\n",
       "        vertical-align: top;\n",
       "    }\n",
       "\n",
       "    .dataframe thead th {\n",
       "        text-align: right;\n",
       "    }\n",
       "</style>\n",
       "<table border=\"1\" class=\"dataframe\">\n",
       "  <thead>\n",
       "    <tr style=\"text-align: right;\">\n",
       "      <th></th>\n",
       "      <th>hash</th>\n",
       "      <th>release</th>\n",
       "      <th>message</th>\n",
       "      <th>timestamp</th>\n",
       "      <th>author</th>\n",
       "      <th>change_type</th>\n",
       "    </tr>\n",
       "  </thead>\n",
       "  <tbody>\n",
       "  </tbody>\n",
       "</table>\n",
       "</div>"
      ],
      "text/plain": [
       "Empty DataFrame\n",
       "Columns: [hash, release, message, timestamp, author, change_type]\n",
       "Index: []"
      ]
     },
     "execution_count": 34,
     "metadata": {},
     "output_type": "execute_result"
    }
   ],
   "source": [
    "#check if (origin/5.2x) is removed\n",
    "df[df['release'] == '(origin/5.2x)']"
   ]
  },
  {
   "cell_type": "code",
   "execution_count": 33,
   "metadata": {},
   "outputs": [],
   "source": [
    "# CSV export\n",
    "df.to_csv('git_log_processed.csv', index=False)"
   ]
  }
 ],
 "metadata": {
  "kernelspec": {
   "display_name": "base",
   "language": "python",
   "name": "python3"
  },
  "language_info": {
   "codemirror_mode": {
    "name": "ipython",
    "version": 3
   },
   "file_extension": ".py",
   "mimetype": "text/x-python",
   "name": "python",
   "nbconvert_exporter": "python",
   "pygments_lexer": "ipython3",
   "version": "3.9.13"
  }
 },
 "nbformat": 4,
 "nbformat_minor": 0
}
